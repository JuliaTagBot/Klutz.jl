{
 "cells": [
  {
   "cell_type": "code",
   "execution_count": 1,
   "metadata": {},
   "outputs": [
    {
     "name": "stdout",
     "output_type": "stream",
     "text": [
      "\u001b[32m\u001b[1m  Updating\u001b[22m\u001b[39m registry at `~/.julia/registries/General`\n"
     ]
    },
    {
     "name": "stderr",
     "output_type": "stream",
     "text": [
      "┌ Warning: Some registries failed to update:\n",
      "│     — `~/.julia/registries/General` — registry dirty\n",
      "└ @ Pkg.API /buildworker/worker/package_linux64/build/usr/share/julia/stdlib/v1.0/Pkg/src/API.jl:157\n"
     ]
    }
   ],
   "source": [
    "]activate ..; instantiate"
   ]
  },
  {
   "cell_type": "code",
   "execution_count": 56,
   "metadata": {},
   "outputs": [
    {
     "data": {
      "text/plain": [
       "(\"784×60000 CuArray{Float32,2}\", \"10×60000 Flux.OneHotMatrix{CuArray{Flux.OneHotVector,1}}\")"
      ]
     },
     "execution_count": 56,
     "metadata": {},
     "output_type": "execute_result"
    }
   ],
   "source": [
    "using Flux, Flux.Data.MNIST, Statistics\n",
    "using Flux: onehotbatch, onecold, crossentropy, throttle\n",
    "using Base.Iterators: repeated\n",
    "using CuArrays\n",
    "imgs = MNIST.images()\n",
    "X = hcat(float.(reshape.(imgs, :))...) |> gpu\n",
    "labels = MNIST.labels()\n",
    "Y = onehotbatch(labels, 0:9) |> gpu\n",
    "dataset = repeated((X, Y), 200)\n",
    "loss(x, y) = crossentropy(m(x), y)\n",
    "accuracy(x, y) = mean(onecold(m(x)) .== onecold(y))\n",
    "evalcb = () -> @show(loss(X, Y))\n",
    "summary.((X,Y))"
   ]
  },
  {
   "cell_type": "code",
   "execution_count": 64,
   "metadata": {},
   "outputs": [
    {
     "name": "stdout",
     "output_type": "stream",
     "text": [
      "loss(X, Y) = 2.34511f0 (tracked)\n",
      "  2.893798 seconds (520.41 k allocations: 19.438 MiB, 35.21% gc time)\n",
      "accuracy(X, Y) = 0.92175\n",
      "accuracy(tX, tY) = 0.9232\n"
     ]
    },
    {
     "data": {
      "text/plain": [
       "0.9232"
      ]
     },
     "execution_count": 64,
     "metadata": {},
     "output_type": "execute_result"
    }
   ],
   "source": [
    "m = Chain(Dense(28^2, 32, relu),Dense(32, 10),softmax) |> gpu\n",
    "opt = ADAM(params(m))\n",
    "@time Flux.train!(loss, dataset, opt, cb = throttle(evalcb, 10))\n",
    "@show accuracy(X, Y)\n",
    "# Test set accuracy\n",
    "tX = hcat(float.(reshape.(MNIST.images(:test), :))...) |> gpu\n",
    "tY = onehotbatch(MNIST.labels(:test), 0:9) |> gpu\n",
    "@show accuracy(tX, tY)"
   ]
  },
  {
   "cell_type": "code",
   "execution_count": 58,
   "metadata": {},
   "outputs": [
    {
     "data": {
      "text/plain": [
       "0"
      ]
     },
     "execution_count": 58,
     "metadata": {},
     "output_type": "execute_result"
    }
   ],
   "source": [
    "using Knet: Knet, KnetArray, param, param0, nll\n",
    "kX = KnetArray(Array(X))\n",
    "kY = labels\n",
    "kdata = repeated((kX,kY),200)\n",
    "Knet.gpu()"
   ]
  },
  {
   "cell_type": "code",
   "execution_count": 59,
   "metadata": {},
   "outputs": [
    {
     "data": {
      "text/plain": [
       "iters (generic function with 1 method)"
      ]
     },
     "execution_count": 59,
     "metadata": {},
     "output_type": "execute_result"
    }
   ],
   "source": [
    "struct kChain; layers; kChain(ls::Tuple)=new(ls); end\n",
    "kChain(ls...)=kChain(ls)\n",
    "(c::kChain)(x) = (for l in c.layers; x = l(x); end; x)\n",
    "struct kDense; w; b; f; end\n",
    "kDense(nx::Int,ny::Int,fn=identity)=kDense(param(ny,nx),param0(ny),fn)\n",
    "(d::kDense)(x) = d.f.(d.w * x .+ d.b)\n",
    "iters(n)=(J->((n-=1)>0))"
   ]
  },
  {
   "cell_type": "code",
   "execution_count": 62,
   "metadata": {},
   "outputs": [
    {
     "name": "stdout",
     "output_type": "stream",
     "text": [
      "Knet.accuracy(km, kX, kY) = 0.09818333333333333\n",
      "  0.558124 seconds (292.63 k allocations: 236.360 MiB, 11.85% gc time)\n",
      "Knet.accuracy(km, kX, kY) = 0.8211833333333334\n"
     ]
    },
    {
     "data": {
      "text/plain": [
       "0.8211833333333334"
      ]
     },
     "execution_count": 62,
     "metadata": {},
     "output_type": "execute_result"
    }
   ],
   "source": [
    "# much faster but converges to .82 instead of .92 ???\n",
    "km = kChain(kDense(28^2, 32, Knet.relu),kDense(32, 10))\n",
    "@show Knet.accuracy(km,kX,kY)\n",
    "@time Knet.train!(km,kdata,callback=iters(length(kdata)))\n",
    "@show Knet.accuracy(km,kX,kY)"
   ]
  },
  {
   "cell_type": "code",
   "execution_count": 63,
   "metadata": {},
   "outputs": [
    {
     "name": "stdout",
     "output_type": "stream",
     "text": [
      "(:dev, 0, :total, 16945512448, :free, 14639366144, :used, 2306146304)\n",
      "(:bytes, 426114724, :size, 213057362, :alloc, 2, :avail, 0)\n",
      "(:bytes, 728217, :size, 104031, :alloc, 7, :avail, 0)\n",
      "(:bytes, 9030, :size, 1290, :alloc, 7, :avail, 0)\n",
      "(:bytes, 896, :size, 128, :alloc, 7, :avail, 0)\n",
      "(:bytes, 280, :size, 40, :alloc, 7, :avail, 0)\n",
      "(:bytes, 0, :size, 8388608, :alloc, 0, :avail, 0)\n",
      "(:bytes, 0, :size, 2642245, :alloc, 0, :avail, 0)\n",
      "(:bytes, 0, :size, 262144, :alloc, 0, :avail, 0)\n",
      "(:totbytes, 426853147, :avail, 0, :ptrs, 30)\n",
      "(:membytes, 426853147, :avail, 0, :limit, 1227210404, :pools, 8)\n"
     ]
    }
   ],
   "source": [
    "Knet.gc()\n",
    "Knet.gpuinfo()"
   ]
  },
  {
   "cell_type": "code",
   "execution_count": null,
   "metadata": {},
   "outputs": [],
   "source": []
  }
 ],
 "metadata": {
  "kernelspec": {
   "display_name": "Julia 1.0.1",
   "language": "julia",
   "name": "julia-1.0"
  },
  "language_info": {
   "file_extension": ".jl",
   "mimetype": "application/julia",
   "name": "julia",
   "version": "1.0.1"
  }
 },
 "nbformat": 4,
 "nbformat_minor": 2
}
